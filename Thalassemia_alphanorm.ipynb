{
 "cells": [
  {
   "cell_type": "markdown",
   "id": "251bdeba",
   "metadata": {},
   "source": [
    "# Capstone Project: Thalassemia alpha carrier/normal"
   ]
  },
  {
   "cell_type": "markdown",
   "id": "e1868f1a",
   "metadata": {},
   "source": [
    "### Importing statements"
   ]
  },
  {
   "cell_type": "code",
   "execution_count": 1,
   "id": "6b021f64",
   "metadata": {
    "scrolled": false
   },
   "outputs": [],
   "source": [
    "import pandas as pd\n",
    "import numpy as np\n",
    "\n",
    "from sklearn.model_selection import train_test_split\n",
    "from sklearn.preprocessing import LabelEncoder\n",
    "\n",
    "from sklearn.dummy import DummyClassifier\n",
    "from sklearn.ensemble import ExtraTreesClassifier\n",
    "from xgboost import XGBClassifier\n",
    "from sklearn.ensemble import RandomForestClassifier\n",
    "from sklearn.ensemble import AdaBoostClassifier\n",
    "\n",
    "from sklearn.metrics  import f1_score\n",
    "\n",
    "from sklearn.model_selection import StratifiedShuffleSplit, StratifiedKFold\n",
    "from sklearn.model_selection import cross_val_score\n",
    "\n",
    "import matplotlib.pyplot as plt\n",
    "from sklearn.model_selection import learning_curve, validation_curve\n",
    "from plotting import plot_learning_curve, plot_validation_curve\n",
    "\n",
    "from sklearn.metrics import ConfusionMatrixDisplay\n",
    "from sklearn.metrics import fbeta_score\n",
    "from sklearn.metrics import recall_score"
   ]
  },
  {
   "cell_type": "markdown",
   "id": "bf4e9590",
   "metadata": {},
   "source": [
    "### Exploratory Data Analysis"
   ]
  },
  {
   "cell_type": "code",
   "execution_count": 2,
   "id": "bb675241",
   "metadata": {},
   "outputs": [],
   "source": [
    "data = pd.read_excel('alphanorm.xlsx')"
   ]
  },
  {
   "cell_type": "code",
   "execution_count": 3,
   "id": "6f6b724f",
   "metadata": {
    "scrolled": true
   },
   "outputs": [
    {
     "name": "stdout",
     "output_type": "stream",
     "text": [
      "<class 'pandas.core.frame.DataFrame'>\n",
      "RangeIndex: 203 entries, 0 to 202\n",
      "Data columns (total 16 columns):\n",
      " #   Column     Non-Null Count  Dtype  \n",
      "---  ------     --------------  -----  \n",
      " 0   sex        203 non-null    object \n",
      " 1   hb         203 non-null    float64\n",
      " 2   pcv        203 non-null    float64\n",
      " 3   rbc        202 non-null    float64\n",
      " 4   mcv        203 non-null    float64\n",
      " 5   mch        201 non-null    float64\n",
      " 6   mchc       203 non-null    float64\n",
      " 7   rdw        203 non-null    float64\n",
      " 8   wbc        203 non-null    float64\n",
      " 9   neut       203 non-null    float64\n",
      " 10  lymph      203 non-null    float64\n",
      " 11  plt        203 non-null    float64\n",
      " 12  hba        203 non-null    float64\n",
      " 13  hba2       203 non-null    float64\n",
      " 14  hbf        203 non-null    float64\n",
      " 15  phenotype  203 non-null    object \n",
      "dtypes: float64(14), object(2)\n",
      "memory usage: 25.5+ KB\n"
     ]
    }
   ],
   "source": [
    "data.info()"
   ]
  },
  {
   "cell_type": "markdown",
   "id": "38684ae4",
   "metadata": {},
   "source": [
    "### Filling empty cell with mean"
   ]
  },
  {
   "cell_type": "code",
   "execution_count": 4,
   "id": "ab15085f",
   "metadata": {},
   "outputs": [],
   "source": [
    "data['rbc'].fillna(data['rbc'].mean(), inplace=True)\n",
    "data['mch'].fillna(data['mch'].mean(), inplace=True)"
   ]
  },
  {
   "cell_type": "code",
   "execution_count": 5,
   "id": "de64e29a",
   "metadata": {
    "scrolled": true
   },
   "outputs": [
    {
     "data": {
      "text/html": [
       "<div>\n",
       "<style scoped>\n",
       "    .dataframe tbody tr th:only-of-type {\n",
       "        vertical-align: middle;\n",
       "    }\n",
       "\n",
       "    .dataframe tbody tr th {\n",
       "        vertical-align: top;\n",
       "    }\n",
       "\n",
       "    .dataframe thead th {\n",
       "        text-align: right;\n",
       "    }\n",
       "</style>\n",
       "<table border=\"1\" class=\"dataframe\">\n",
       "  <thead>\n",
       "    <tr style=\"text-align: right;\">\n",
       "      <th></th>\n",
       "      <th>sex</th>\n",
       "      <th>hb</th>\n",
       "      <th>pcv</th>\n",
       "      <th>rbc</th>\n",
       "      <th>mcv</th>\n",
       "      <th>mch</th>\n",
       "      <th>mchc</th>\n",
       "      <th>rdw</th>\n",
       "      <th>wbc</th>\n",
       "      <th>neut</th>\n",
       "      <th>lymph</th>\n",
       "      <th>plt</th>\n",
       "      <th>hba</th>\n",
       "      <th>hba2</th>\n",
       "      <th>hbf</th>\n",
       "      <th>phenotype</th>\n",
       "    </tr>\n",
       "  </thead>\n",
       "  <tbody>\n",
       "    <tr>\n",
       "      <th>0</th>\n",
       "      <td>female</td>\n",
       "      <td>10.8</td>\n",
       "      <td>35.2</td>\n",
       "      <td>5.12</td>\n",
       "      <td>68.7</td>\n",
       "      <td>21.2</td>\n",
       "      <td>30.8</td>\n",
       "      <td>13.4</td>\n",
       "      <td>9.6</td>\n",
       "      <td>5.300000e+01</td>\n",
       "      <td>3.300000e+01</td>\n",
       "      <td>309.0</td>\n",
       "      <td>8.850000e+01</td>\n",
       "      <td>2.600000e+00</td>\n",
       "      <td>0.110000</td>\n",
       "      <td>alpha carrier</td>\n",
       "    </tr>\n",
       "    <tr>\n",
       "      <th>1</th>\n",
       "      <td>male</td>\n",
       "      <td>10.8</td>\n",
       "      <td>26.6</td>\n",
       "      <td>4.28</td>\n",
       "      <td>62.1</td>\n",
       "      <td>25.3</td>\n",
       "      <td>40.8</td>\n",
       "      <td>19.8</td>\n",
       "      <td>10.3</td>\n",
       "      <td>4.940000e+01</td>\n",
       "      <td>4.310000e+01</td>\n",
       "      <td>687.0</td>\n",
       "      <td>8.780000e+01</td>\n",
       "      <td>2.400000e+00</td>\n",
       "      <td>0.900000</td>\n",
       "      <td>alpha carrier</td>\n",
       "    </tr>\n",
       "    <tr>\n",
       "      <th>2</th>\n",
       "      <td>female</td>\n",
       "      <td>10.8</td>\n",
       "      <td>35.2</td>\n",
       "      <td>5.12</td>\n",
       "      <td>68.7</td>\n",
       "      <td>21.2</td>\n",
       "      <td>30.8</td>\n",
       "      <td>13.4</td>\n",
       "      <td>9.6</td>\n",
       "      <td>5.300000e+01</td>\n",
       "      <td>3.300000e+01</td>\n",
       "      <td>309.0</td>\n",
       "      <td>8.850000e+01</td>\n",
       "      <td>2.600000e+00</td>\n",
       "      <td>0.100000</td>\n",
       "      <td>alpha carrier</td>\n",
       "    </tr>\n",
       "    <tr>\n",
       "      <th>3</th>\n",
       "      <td>male</td>\n",
       "      <td>14.5</td>\n",
       "      <td>43.5</td>\n",
       "      <td>5.17</td>\n",
       "      <td>84.0</td>\n",
       "      <td>28.0</td>\n",
       "      <td>33.4</td>\n",
       "      <td>12.1</td>\n",
       "      <td>11.9</td>\n",
       "      <td>3.100000e+01</td>\n",
       "      <td>5.000000e+01</td>\n",
       "      <td>334.0</td>\n",
       "      <td>8.680000e+01</td>\n",
       "      <td>2.800000e+00</td>\n",
       "      <td>0.300000</td>\n",
       "      <td>alpha carrier</td>\n",
       "    </tr>\n",
       "    <tr>\n",
       "      <th>4</th>\n",
       "      <td>male</td>\n",
       "      <td>11.5</td>\n",
       "      <td>34.4</td>\n",
       "      <td>5.02</td>\n",
       "      <td>68.7</td>\n",
       "      <td>22.9</td>\n",
       "      <td>33.4</td>\n",
       "      <td>15.7</td>\n",
       "      <td>20.4</td>\n",
       "      <td>6.700000e+01</td>\n",
       "      <td>3.000000e+01</td>\n",
       "      <td>596.0</td>\n",
       "      <td>8.630000e+01</td>\n",
       "      <td>2.400000e+00</td>\n",
       "      <td>1.300000</td>\n",
       "      <td>alpha carrier</td>\n",
       "    </tr>\n",
       "    <tr>\n",
       "      <th>...</th>\n",
       "      <td>...</td>\n",
       "      <td>...</td>\n",
       "      <td>...</td>\n",
       "      <td>...</td>\n",
       "      <td>...</td>\n",
       "      <td>...</td>\n",
       "      <td>...</td>\n",
       "      <td>...</td>\n",
       "      <td>...</td>\n",
       "      <td>...</td>\n",
       "      <td>...</td>\n",
       "      <td>...</td>\n",
       "      <td>...</td>\n",
       "      <td>...</td>\n",
       "      <td>...</td>\n",
       "      <td>...</td>\n",
       "    </tr>\n",
       "    <tr>\n",
       "      <th>198</th>\n",
       "      <td>male</td>\n",
       "      <td>15.5</td>\n",
       "      <td>45.9</td>\n",
       "      <td>5.19</td>\n",
       "      <td>88.4</td>\n",
       "      <td>29.9</td>\n",
       "      <td>33.8</td>\n",
       "      <td>12.6</td>\n",
       "      <td>8.8</td>\n",
       "      <td>4.756500e+04</td>\n",
       "      <td>4.097500e+04</td>\n",
       "      <td>177.0</td>\n",
       "      <td>8.860000e+01</td>\n",
       "      <td>3.200000e+00</td>\n",
       "      <td>0.400000</td>\n",
       "      <td>normal</td>\n",
       "    </tr>\n",
       "    <tr>\n",
       "      <th>199</th>\n",
       "      <td>female</td>\n",
       "      <td>10.4</td>\n",
       "      <td>33.3</td>\n",
       "      <td>4.93</td>\n",
       "      <td>67.6</td>\n",
       "      <td>21.1</td>\n",
       "      <td>31.2</td>\n",
       "      <td>14.8</td>\n",
       "      <td>8.9</td>\n",
       "      <td>4.447838e+09</td>\n",
       "      <td>4.552703e+09</td>\n",
       "      <td>295.0</td>\n",
       "      <td>8.800000e+01</td>\n",
       "      <td>2.400000e+00</td>\n",
       "      <td>0.500000</td>\n",
       "      <td>normal</td>\n",
       "    </tr>\n",
       "    <tr>\n",
       "      <th>200</th>\n",
       "      <td>male</td>\n",
       "      <td>9.8</td>\n",
       "      <td>29.8</td>\n",
       "      <td>4.75</td>\n",
       "      <td>62.7</td>\n",
       "      <td>19.0</td>\n",
       "      <td>30.4</td>\n",
       "      <td>14.7</td>\n",
       "      <td>7.2</td>\n",
       "      <td>4.823448e+09</td>\n",
       "      <td>4.153793e+09</td>\n",
       "      <td>262.0</td>\n",
       "      <td>8.510000e+01</td>\n",
       "      <td>2.400000e+00</td>\n",
       "      <td>1.100000</td>\n",
       "      <td>normal</td>\n",
       "    </tr>\n",
       "    <tr>\n",
       "      <th>201</th>\n",
       "      <td>male</td>\n",
       "      <td>11.2</td>\n",
       "      <td>37.2</td>\n",
       "      <td>5.43</td>\n",
       "      <td>68.5</td>\n",
       "      <td>20.6</td>\n",
       "      <td>30.1</td>\n",
       "      <td>15.1</td>\n",
       "      <td>12.0</td>\n",
       "      <td>1.350000e+01</td>\n",
       "      <td>7.680000e+01</td>\n",
       "      <td>277.0</td>\n",
       "      <td>8.652329e+09</td>\n",
       "      <td>2.588608e+09</td>\n",
       "      <td>0.769231</td>\n",
       "      <td>normal</td>\n",
       "    </tr>\n",
       "    <tr>\n",
       "      <th>202</th>\n",
       "      <td>male</td>\n",
       "      <td>14.4</td>\n",
       "      <td>44.5</td>\n",
       "      <td>5.70</td>\n",
       "      <td>78.0</td>\n",
       "      <td>25.3</td>\n",
       "      <td>31.2</td>\n",
       "      <td>15.0</td>\n",
       "      <td>7.2</td>\n",
       "      <td>3.600000e+01</td>\n",
       "      <td>5.900000e+01</td>\n",
       "      <td>224.0</td>\n",
       "      <td>8.652329e+09</td>\n",
       "      <td>2.588608e+09</td>\n",
       "      <td>0.769231</td>\n",
       "      <td>normal</td>\n",
       "    </tr>\n",
       "  </tbody>\n",
       "</table>\n",
       "<p>203 rows × 16 columns</p>\n",
       "</div>"
      ],
      "text/plain": [
       "        sex    hb   pcv   rbc   mcv   mch  mchc   rdw   wbc          neut  \\\n",
       "0    female  10.8  35.2  5.12  68.7  21.2  30.8  13.4   9.6  5.300000e+01   \n",
       "1      male  10.8  26.6  4.28  62.1  25.3  40.8  19.8  10.3  4.940000e+01   \n",
       "2    female  10.8  35.2  5.12  68.7  21.2  30.8  13.4   9.6  5.300000e+01   \n",
       "3      male  14.5  43.5  5.17  84.0  28.0  33.4  12.1  11.9  3.100000e+01   \n",
       "4      male  11.5  34.4  5.02  68.7  22.9  33.4  15.7  20.4  6.700000e+01   \n",
       "..      ...   ...   ...   ...   ...   ...   ...   ...   ...           ...   \n",
       "198    male  15.5  45.9  5.19  88.4  29.9  33.8  12.6   8.8  4.756500e+04   \n",
       "199  female  10.4  33.3  4.93  67.6  21.1  31.2  14.8   8.9  4.447838e+09   \n",
       "200    male   9.8  29.8  4.75  62.7  19.0  30.4  14.7   7.2  4.823448e+09   \n",
       "201    male  11.2  37.2  5.43  68.5  20.6  30.1  15.1  12.0  1.350000e+01   \n",
       "202    male  14.4  44.5  5.70  78.0  25.3  31.2  15.0   7.2  3.600000e+01   \n",
       "\n",
       "            lymph    plt           hba          hba2       hbf      phenotype  \n",
       "0    3.300000e+01  309.0  8.850000e+01  2.600000e+00  0.110000  alpha carrier  \n",
       "1    4.310000e+01  687.0  8.780000e+01  2.400000e+00  0.900000  alpha carrier  \n",
       "2    3.300000e+01  309.0  8.850000e+01  2.600000e+00  0.100000  alpha carrier  \n",
       "3    5.000000e+01  334.0  8.680000e+01  2.800000e+00  0.300000  alpha carrier  \n",
       "4    3.000000e+01  596.0  8.630000e+01  2.400000e+00  1.300000  alpha carrier  \n",
       "..            ...    ...           ...           ...       ...            ...  \n",
       "198  4.097500e+04  177.0  8.860000e+01  3.200000e+00  0.400000         normal  \n",
       "199  4.552703e+09  295.0  8.800000e+01  2.400000e+00  0.500000         normal  \n",
       "200  4.153793e+09  262.0  8.510000e+01  2.400000e+00  1.100000         normal  \n",
       "201  7.680000e+01  277.0  8.652329e+09  2.588608e+09  0.769231         normal  \n",
       "202  5.900000e+01  224.0  8.652329e+09  2.588608e+09  0.769231         normal  \n",
       "\n",
       "[203 rows x 16 columns]"
      ]
     },
     "execution_count": 5,
     "metadata": {},
     "output_type": "execute_result"
    }
   ],
   "source": [
    "data"
   ]
  },
  {
   "cell_type": "markdown",
   "id": "4313e2f0",
   "metadata": {},
   "source": [
    "### Replacing the categorical variable with actual values"
   ]
  },
  {
   "cell_type": "code",
   "execution_count": 6,
   "id": "647e9b71",
   "metadata": {},
   "outputs": [],
   "source": [
    "data['sex'].replace('male', 0, inplace=True,)\n",
    "data['sex'].replace('female', 1, inplace=True,)"
   ]
  },
  {
   "cell_type": "code",
   "execution_count": 7,
   "id": "d73eb753",
   "metadata": {},
   "outputs": [],
   "source": [
    "X = data.drop(columns=['phenotype'], axis= 1)\n",
    "y = data.phenotype"
   ]
  },
  {
   "cell_type": "code",
   "execution_count": 8,
   "id": "382d9714",
   "metadata": {
    "scrolled": true
   },
   "outputs": [
    {
     "name": "stdout",
     "output_type": "stream",
     "text": [
      "<class 'pandas.core.frame.DataFrame'>\n",
      "RangeIndex: 203 entries, 0 to 202\n",
      "Data columns (total 15 columns):\n",
      " #   Column  Non-Null Count  Dtype  \n",
      "---  ------  --------------  -----  \n",
      " 0   sex     203 non-null    int64  \n",
      " 1   hb      203 non-null    float64\n",
      " 2   pcv     203 non-null    float64\n",
      " 3   rbc     203 non-null    float64\n",
      " 4   mcv     203 non-null    float64\n",
      " 5   mch     203 non-null    float64\n",
      " 6   mchc    203 non-null    float64\n",
      " 7   rdw     203 non-null    float64\n",
      " 8   wbc     203 non-null    float64\n",
      " 9   neut    203 non-null    float64\n",
      " 10  lymph   203 non-null    float64\n",
      " 11  plt     203 non-null    float64\n",
      " 12  hba     203 non-null    float64\n",
      " 13  hba2    203 non-null    float64\n",
      " 14  hbf     203 non-null    float64\n",
      "dtypes: float64(14), int64(1)\n",
      "memory usage: 23.9 KB\n"
     ]
    }
   ],
   "source": [
    "X.info()"
   ]
  },
  {
   "cell_type": "code",
   "execution_count": 9,
   "id": "c765e2f3",
   "metadata": {
    "scrolled": false
   },
   "outputs": [
    {
     "name": "stdout",
     "output_type": "stream",
     "text": [
      "<class 'pandas.core.series.Series'>\n",
      "RangeIndex: 203 entries, 0 to 202\n",
      "Series name: phenotype\n",
      "Non-Null Count  Dtype \n",
      "--------------  ----- \n",
      "203 non-null    object\n",
      "dtypes: object(1)\n",
      "memory usage: 1.7+ KB\n"
     ]
    }
   ],
   "source": [
    "y.info()"
   ]
  },
  {
   "cell_type": "markdown",
   "id": "f05afcb2",
   "metadata": {},
   "source": [
    "### Selecting algorithm"
   ]
  },
  {
   "cell_type": "code",
   "execution_count": 10,
   "id": "eb4142bf",
   "metadata": {},
   "outputs": [],
   "source": [
    "X_train, X_test, y_train, y_test = train_test_split(X, y,test_size = 0.2)"
   ]
  },
  {
   "cell_type": "code",
   "execution_count": 11,
   "id": "9e3609b9",
   "metadata": {},
   "outputs": [],
   "source": [
    "le = LabelEncoder()\n",
    "y_train_le = le.fit_transform(y_train)"
   ]
  },
  {
   "cell_type": "code",
   "execution_count": 12,
   "id": "62653815",
   "metadata": {
    "scrolled": true
   },
   "outputs": [],
   "source": [
    "sss = StratifiedShuffleSplit(n_splits = 100 , test_size=0.2) \n",
    "\n",
    "dummy_clf = DummyClassifier(strategy='stratified')\n",
    "clf_rand = RandomForestClassifier()\n",
    "clf_XGB = XGBClassifier()\n",
    "clf_ext = ExtraTreesClassifier()\n",
    "clf_ada = AdaBoostClassifier()\n",
    "scores_f1 = [] \n",
    "classifiers=[dummy_clf, clf_rand, clf_XGB, clf_ext, clf_ada]\n",
    "classifiers_l=['dummy_clf', 'clf_rand', 'clf_XGB', 'clf_ext', 'clf_ada']"
   ]
  },
  {
   "cell_type": "code",
   "execution_count": 13,
   "id": "c95bff9c",
   "metadata": {},
   "outputs": [],
   "source": [
    "for clf in classifiers:\n",
    "    f1_ave_sco = np.average(cross_val_score(clf, X_train, y_train_le, cv = sss, scoring =  'f1_macro'))\n",
    "    scores_f1.append(f1_ave_sco)    "
   ]
  },
  {
   "cell_type": "code",
   "execution_count": 14,
   "id": "a604a5a7",
   "metadata": {
    "scrolled": true
   },
   "outputs": [
    {
     "data": {
      "text/html": [
       "<div>\n",
       "<style scoped>\n",
       "    .dataframe tbody tr th:only-of-type {\n",
       "        vertical-align: middle;\n",
       "    }\n",
       "\n",
       "    .dataframe tbody tr th {\n",
       "        vertical-align: top;\n",
       "    }\n",
       "\n",
       "    .dataframe thead th {\n",
       "        text-align: right;\n",
       "    }\n",
       "</style>\n",
       "<table border=\"1\" class=\"dataframe\">\n",
       "  <thead>\n",
       "    <tr style=\"text-align: right;\">\n",
       "      <th></th>\n",
       "      <th>f1_macro</th>\n",
       "    </tr>\n",
       "  </thead>\n",
       "  <tbody>\n",
       "    <tr>\n",
       "      <th>dummy_clf</th>\n",
       "      <td>0.501763</td>\n",
       "    </tr>\n",
       "    <tr>\n",
       "      <th>clf_rand</th>\n",
       "      <td>0.511139</td>\n",
       "    </tr>\n",
       "    <tr>\n",
       "      <th>clf_XGB</th>\n",
       "      <td>0.535403</td>\n",
       "    </tr>\n",
       "    <tr>\n",
       "      <th>clf_ext</th>\n",
       "      <td>0.530750</td>\n",
       "    </tr>\n",
       "    <tr>\n",
       "      <th>clf_ada</th>\n",
       "      <td>0.577477</td>\n",
       "    </tr>\n",
       "  </tbody>\n",
       "</table>\n",
       "</div>"
      ],
      "text/plain": [
       "           f1_macro\n",
       "dummy_clf  0.501763\n",
       "clf_rand   0.511139\n",
       "clf_XGB    0.535403\n",
       "clf_ext    0.530750\n",
       "clf_ada    0.577477"
      ]
     },
     "execution_count": 14,
     "metadata": {},
     "output_type": "execute_result"
    }
   ],
   "source": [
    "clf_scores = pd.DataFrame(scores_f1, classifiers_l, columns = ['f1_macro'])\n",
    "clf_scores"
   ]
  },
  {
   "cell_type": "markdown",
   "id": "ab247030",
   "metadata": {},
   "source": [
    "### Improving the model"
   ]
  },
  {
   "cell_type": "code",
   "execution_count": 15,
   "id": "3e4f0d81",
   "metadata": {
    "scrolled": true
   },
   "outputs": [
    {
     "data": {
      "text/plain": [
       "(<Figure size 720x360 with 1 Axes>,\n",
       " <AxesSubplot:title={'center':\"Validation Curve with <class 'sklearn.ensemble._weight_boosting.AdaBoostClassifier'>\"}, xlabel='n_estimators', ylabel='f1_macro'>)"
      ]
     },
     "execution_count": 15,
     "metadata": {},
     "output_type": "execute_result"
    },
    {
     "data": {
      "image/png": "[encoded data removed]",
      "text/plain": [
       "<Figure size 720x360 with 1 Axes>"
      ]
     },
     "metadata": {
      "needs_background": "light"
     },
     "output_type": "display_data"
    }
   ],
   "source": [
    "plot_validation_curve(clf_ada,  X_train, y_train, param_name = 'n_estimators', param_range = np.arange(10,50,2), cv = StratifiedKFold(n_splits=5), scoring = 'f1_macro',n_jobs = -1)"
   ]
  },
  {
   "cell_type": "code",
   "execution_count": 16,
   "id": "f19f272e",
   "metadata": {
    "scrolled": true
   },
   "outputs": [
    {
     "data": {
      "text/plain": [
       "(<Figure size 720x360 with 1 Axes>,\n",
       " <AxesSubplot:title={'center':\"Validation Curve with <class 'sklearn.ensemble._weight_boosting.AdaBoostClassifier'>\"}, xlabel='learning_rate', ylabel='f1_macro'>)"
      ]
     },
     "execution_count": 16,
     "metadata": {},
     "output_type": "execute_result"
    },
    {
     "data": {
      "image/png": "[encoded data removed]",
      "text/plain": [
       "<Figure size 720x360 with 1 Axes>"
      ]
     },
     "metadata": {
      "needs_background": "light"
     },
     "output_type": "display_data"
    }
   ],
   "source": [
    "plot_validation_curve(clf_ada, X_train, y_train, param_name = 'learning_rate', param_range = np.arange(0.1,3,0.1), cv = StratifiedKFold(n_splits=5), scoring = 'f1_macro', n_jobs = -1)"
   ]
  },
  {
   "cell_type": "code",
   "execution_count": 17,
   "id": "3f62dcb9",
   "metadata": {
    "scrolled": true
   },
   "outputs": [],
   "source": [
    "best_clf=AdaBoostClassifier(n_estimators = 20, learning_rate=0.5)"
   ]
  },
  {
   "cell_type": "markdown",
   "id": "53e6a432",
   "metadata": {},
   "source": [
    "### Fitting models"
   ]
  },
  {
   "cell_type": "code",
   "execution_count": 18,
   "id": "8a0a71fd",
   "metadata": {},
   "outputs": [],
   "source": [
    "dummy_clf.fit(X_train,y_train)\n",
    "y_dummy_pred = dummy_clf.predict(X_test)"
   ]
  },
  {
   "cell_type": "code",
   "execution_count": 19,
   "id": "184588c8",
   "metadata": {},
   "outputs": [],
   "source": [
    "best_clf.fit(X_train,y_train)\n",
    "y_best_pred = best_clf.predict(X_test)"
   ]
  },
  {
   "cell_type": "code",
   "execution_count": 20,
   "id": "de479ca2",
   "metadata": {
    "scrolled": true
   },
   "outputs": [
    {
     "data": {
      "text/plain": [
       "(<Figure size 720x360 with 1 Axes>,\n",
       " <AxesSubplot:title={'center':'Learning Curve'}, xlabel='Training examples', ylabel='Score'>)"
      ]
     },
     "execution_count": 20,
     "metadata": {},
     "output_type": "execute_result"
    },
    {
     "data": {
      "image/png": "[encoded data removed]",
      "text/plain": [
       "<Figure size 720x360 with 1 Axes>"
      ]
     },
     "metadata": {
      "needs_background": "light"
     },
     "output_type": "display_data"
    }
   ],
   "source": [
    "plot_learning_curve(best_clf, X_train, y_train, cv = StratifiedKFold(n_splits=5), train_sizes = np.linspace (0.1, 1.0, 10),scoring='f1_macro', n_jobs = -1)"
   ]
  },
  {
   "cell_type": "markdown",
   "id": "8490f88f",
   "metadata": {},
   "source": [
    "### Evaluating models"
   ]
  },
  {
   "cell_type": "code",
   "execution_count": 21,
   "id": "b278116d",
   "metadata": {
    "scrolled": false
   },
   "outputs": [
    {
     "data": {
      "text/plain": [
       "<sklearn.metrics._plot.confusion_matrix.ConfusionMatrixDisplay at 0x2181aed4910>"
      ]
     },
     "execution_count": 21,
     "metadata": {},
     "output_type": "execute_result"
    },
    {
     "data": {
      "image/png": "[encoded data removed]",
      "text/plain": [
       "<Figure size 432x288 with 2 Axes>"
      ]
     },
     "metadata": {
      "needs_background": "light"
     },
     "output_type": "display_data"
    }
   ],
   "source": [
    "ConfusionMatrixDisplay.from_estimator(dummy_clf, X_test, y_test) "
   ]
  },
  {
   "cell_type": "code",
   "execution_count": 22,
   "id": "ec5f3496",
   "metadata": {
    "scrolled": false
   },
   "outputs": [
    {
     "data": {
      "text/plain": [
       "<sklearn.metrics._plot.confusion_matrix.ConfusionMatrixDisplay at 0x21815eae070>"
      ]
     },
     "execution_count": 22,
     "metadata": {},
     "output_type": "execute_result"
    },
    {
     "data": {
      "image/png": "[encoded data removed]",
      "text/plain": [
       "<Figure size 432x288 with 2 Axes>"
      ]
     },
     "metadata": {
      "needs_background": "light"
     },
     "output_type": "display_data"
    }
   ],
   "source": [
    "ConfusionMatrixDisplay.from_estimator(best_clf, X_test, y_test) "
   ]
  },
  {
   "cell_type": "code",
   "execution_count": 23,
   "id": "2aa16d9f",
   "metadata": {},
   "outputs": [],
   "source": [
    "fbeta_score_dummy = fbeta_score(y_test, y_dummy_pred, average='macro', beta = 0.5)\n",
    "fbeta_score_ada = fbeta_score(y_test, y_best_pred, average='macro', beta = 0.5)\n",
    "f1_score_dummy = f1_score(y_test, y_dummy_pred, average='macro', )\n",
    "f1_score_ada = f1_score(y_test, y_best_pred, average='macro', )\n",
    "recall_dummy =recall_score(y_test, y_dummy_pred, average='macro', )\n",
    "recall_ada = recall_score(y_test, y_best_pred, average='macro', )"
   ]
  },
  {
   "cell_type": "code",
   "execution_count": 24,
   "id": "adeaca99",
   "metadata": {},
   "outputs": [],
   "source": [
    "final_scores = pd.DataFrame([['Dummy', recall_dummy, f1_score_dummy,fbeta_score_dummy],\n",
    "['AdaBoost', recall_ada, f1_score_ada, fbeta_score_ada]],\n",
    "columns=['Classifier','Recall', 'f1_score', 'fbeta_score'])\n",
    "final_scores = final_scores.set_index('Classifier')"
   ]
  },
  {
   "cell_type": "code",
   "execution_count": 25,
   "id": "d72c2ef2",
   "metadata": {
    "scrolled": true
   },
   "outputs": [
    {
     "data": {
      "text/html": [
       "<div>\n",
       "<style scoped>\n",
       "    .dataframe tbody tr th:only-of-type {\n",
       "        vertical-align: middle;\n",
       "    }\n",
       "\n",
       "    .dataframe tbody tr th {\n",
       "        vertical-align: top;\n",
       "    }\n",
       "\n",
       "    .dataframe thead th {\n",
       "        text-align: right;\n",
       "    }\n",
       "</style>\n",
       "<table border=\"1\" class=\"dataframe\">\n",
       "  <thead>\n",
       "    <tr style=\"text-align: right;\">\n",
       "      <th></th>\n",
       "      <th>Recall</th>\n",
       "      <th>f1_score</th>\n",
       "      <th>fbeta_score</th>\n",
       "    </tr>\n",
       "    <tr>\n",
       "      <th>Classifier</th>\n",
       "      <th></th>\n",
       "      <th></th>\n",
       "      <th></th>\n",
       "    </tr>\n",
       "  </thead>\n",
       "  <tbody>\n",
       "    <tr>\n",
       "      <th>Dummy</th>\n",
       "      <td>0.490385</td>\n",
       "      <td>0.486367</td>\n",
       "      <td>0.486904</td>\n",
       "    </tr>\n",
       "    <tr>\n",
       "      <th>AdaBoost</th>\n",
       "      <td>0.576923</td>\n",
       "      <td>0.551244</td>\n",
       "      <td>0.618530</td>\n",
       "    </tr>\n",
       "  </tbody>\n",
       "</table>\n",
       "</div>"
      ],
      "text/plain": [
       "              Recall  f1_score  fbeta_score\n",
       "Classifier                                 \n",
       "Dummy       0.490385  0.486367     0.486904\n",
       "AdaBoost    0.576923  0.551244     0.618530"
      ]
     },
     "execution_count": 25,
     "metadata": {},
     "output_type": "execute_result"
    }
   ],
   "source": [
    "final_scores"
   ]
  },
  {
   "cell_type": "code",
   "execution_count": 26,
   "id": "47b751ac",
   "metadata": {},
   "outputs": [
    {
     "data": {
      "text/plain": [
       "<AxesSubplot:xlabel='Classifier'>"
      ]
     },
     "execution_count": 26,
     "metadata": {},
     "output_type": "execute_result"
    },
    {
     "data": {
      "image/png": "[encoded data removed]",
      "text/plain": [
       "<Figure size 432x288 with 1 Axes>"
      ]
     },
     "metadata": {
      "needs_background": "light"
     },
     "output_type": "display_data"
    }
   ],
   "source": [
    "final_scores.plot(kind='bar', rot=0)"
   ]
  },
  {
   "cell_type": "code",
   "execution_count": null,
   "id": "7e3b96a4",
   "metadata": {},
   "outputs": [],
   "source": []
  },
  {
   "cell_type": "code",
   "execution_count": null,
   "id": "52caab12",
   "metadata": {},
   "outputs": [],
   "source": []
  },
  {
   "cell_type": "code",
   "execution_count": null,
   "id": "1c015a4f",
   "metadata": {},
   "outputs": [],
   "source": []
  }
 ],
 "metadata": {
  "kernelspec": {
   "display_name": "Python 3 (ipykernel)",
   "language": "python",
   "name": "python3"
  },
  "language_info": {
   "codemirror_mode": {
    "name": "ipython",
    "version": 3
   },
   "file_extension": ".py",
   "mimetype": "text/x-python",
   "name": "python",
   "nbconvert_exporter": "python",
   "pygments_lexer": "ipython3",
   "version": "3.9.12"
  }
 },
 "nbformat": 4,
 "nbformat_minor": 5
}
